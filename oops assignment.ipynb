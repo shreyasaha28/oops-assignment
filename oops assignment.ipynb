{
 "cells": [
  {
   "cell_type": "markdown",
   "id": "963a3db3-e896-4ce7-9b67-6fc07e8ec363",
   "metadata": {},
   "source": [
    "1.What is object oriented programming (Oop)?\n",
    "==Object-oriented programming (OOP) is a programming paradigm conpets that is based on the concept of “objects”, which can contain data and code that manipulates that data. Python's OOPs allows us to organize our code into reusable, modular, and efficient structures."
   ]
  },
  {
   "cell_type": "markdown",
   "id": "72b5fa5f-34bd-441d-9309-a639f8209aa1",
   "metadata": {},
   "source": [
    "2.What is class in oop?\n",
    ": Orignal template is called class .class are template for creating an object. For example all human beings have 2 eyes ears and nose but all look different hence here human being is class ."
   ]
  },
  {
   "cell_type": "markdown",
   "id": "d75eddb6-c689-4faa-9eeb-b0cca4a36870",
   "metadata": {},
   "source": [
    "3. What is object in oop?\n",
    ":: object is the copy of orginal template class.It can be manipulated.\n",
    "For example we are different object of class human being despite of have 2 eyes 2 ears 1 nose we all look different ."
   ]
  },
  {
   "cell_type": "markdown",
   "id": "58999d68-4651-44cf-9ddb-911e96180530",
   "metadata": {},
   "source": [
    "4. What is the difference between abstraction and encapsulation?\n",
    ": Abstraction is the concept of hiding complex implementation.In abstraction  unneeded details are hidden and exposing only the required one .but\n",
    "Encapsulation is a method of hiding something from a class and too it gives controlled access  to user."
   ]
  },
  {
   "cell_type": "markdown",
   "id": "9fadd1ff-d5ac-4939-ad8d-f5dd4713a613",
   "metadata": {},
   "source": [
    "5. What is dunder method in python?\n",
    "# Dunder methods, also known as magic methods, are special methods in Python that begin and end with double underscores (e.g., _init, __str, __len_). They enable classes to interact with built-in functions and operators, allowing for operator overloading and customization of object behavior."
   ]
  },
  {
   "cell_type": "markdown",
   "id": "f2662dce-8677-4395-a5f8-2adc1c7c2c2e",
   "metadata": {},
   "source": [
    "6. What is polymorphism in oop?\n",
    "# Poly means many and morphism means forms or states. Polymorphisms refers to an object taking several forms depending on method or data."
   ]
  },
  {
   "cell_type": "markdown",
   "id": "6fcad03f-258f-48f5-adda-36a96129da76",
   "metadata": {},
   "source": [
    "7.Explain the concept of inheritance in oop?\n",
    "# Inheritance refers to.the process object or subclass recive the properties of parent class. There are different types of inheritance such as single inheritance, multiple inheritance, hierarchical inheritance and hybrid inheritance."
   ]
  },
  {
   "cell_type": "markdown",
   "id": "09b64073-cfa5-4524-ad07-71b26a290cc4",
   "metadata": {},
   "source": [
    "8. How is encapsulation achieved in python?\n",
    "# Encapsulation in Python is achieved through access modifiers, which control the visibility of class members. Access modifiers are of three types - Public, Private, Protected. \n",
    "Public is accessible from outside and inside of class\n",
    "Protected is only being accessed from its class and sub class.\n",
    "Private  is only accessible within its class"
   ]
  },
  {
   "cell_type": "markdown",
   "id": "361d73c1-afec-4140-bc28-d410aa32796b",
   "metadata": {},
   "source": [
    "9 . What is constructor in Python?\n",
    "constructor in Python is a special method used to initialize the attributes of an object when it is created. It is automatically called when an object is instantiated from a class. The constructor method in Python is named _init_."
   ]
  },
  {
   "cell_type": "markdown",
   "id": "134ac0bd-02c2-4505-8ed2-2019f7f66b8a",
   "metadata": {},
   "source": [
    "10. What are class and static method in python?\n",
    "# Class method are bound to class. It  access and modify method and attributes with in the class across all instances. It is defined using @classmethod.\n",
    "Static method doesn't modify class or instance state. It behaves like a plain function that belongs to class.It does not take either self or cls. It doesn't access instance or class state neither depend on them. It is defined using @staticmethod"
   ]
  },
  {
   "cell_type": "markdown",
   "id": "ad07c535-e849-49c4-a1fd-62d2e54a6c0e",
   "metadata": {},
   "source": [
    "11 . What is method overriding in python?\n",
    "#  Method overriding in python is re-writing method of parent class in child class and method of child class will be executed."
   ]
  },
  {
   "cell_type": "markdown",
   "id": "3731a90e-f4cc-403b-9058-63ca9a3ed536",
   "metadata": {},
   "source": [
    "12. What is method overloading in oop?\n",
    "#  Method overloading in Python refers to the ability to define multiple methods with the same name in a class, but with different parameters. However, Python doesn't support true method overloading."
   ]
  },
  {
   "cell_type": "markdown",
   "id": "e1a41716-2898-437d-b9db-a729caebdc23",
   "metadata": {},
   "source": [
    "13. What is property decorator in python?\n",
    "# Property decorator in python is a built in feature that allows methods to be accesed like attributes."
   ]
  },
  {
   "cell_type": "markdown",
   "id": "8f2101c3-6429-48cc-becf-c0e5c23816ad",
   "metadata": {},
   "source": [
    "14. Why polymorphism is important in oop?\n",
    "# Polymorphisms is important in oop because it allows a single interface to handle different types of objects, promoting code reuse, flexibility, and extensibility . Method overloading and method overriding are the two ways through which it can be achieved."
   ]
  },
  {
   "cell_type": "markdown",
   "id": "189b7f70-b439-4b27-b932-a8690459afaa",
   "metadata": {},
   "source": [
    "15. What is abstract clas in python?\n",
    "# Abstract class are class that may contain method that are just declared and are not implement in abstract class itself. Abstract class cannot be instantiates hence cannot be made as object. Abstract class should be sub class"
   ]
  },
  {
   "cell_type": "markdown",
   "id": "4c838b3e-c308-4cdf-ab16-787bb4cbcafe",
   "metadata": {},
   "source": [
    "16. What are the advantages of oop?\n",
    " # oop has many advantages it allows the code reusability , when a class is made its object can be manipulated as per ones need ,Using abstract one can hide complex implementation,\n",
    "Using encapsulation we can make our code public private and protected according to need, It gives data security."
   ]
  },
  {
   "cell_type": "markdown",
   "id": "a293d59f-3deb-4a7e-8b2e-1a89b5e95e34",
   "metadata": {},
   "source": [
    "17. What is difference between a class variable and an instance variable ?\n",
    "# Class variables are shared across all instances of the class, meaning they have only one copy, regardless of how many objects are created. Instance variables, on the other hand, are unique to each instance, with each object having its own distinct copy."
   ]
  },
  {
   "cell_type": "markdown",
   "id": "b1634f1d-7f14-4f39-ab7a-a13051f302a8",
   "metadata": {},
   "source": [
    "18. What is multiple inheritance in python?\n",
    "# Multiple inheritance is a type of inheritance in which child class inherits property from multiple parents."
   ]
  },
  {
   "cell_type": "markdown",
   "id": "f7b989ec-ab23-4a5b-944b-18ff7d6e0628",
   "metadata": {},
   "source": [
    "19. Explain the purpose of  _str_ and _repr_ methods in python?\n",
    "# _str_ is used for informal representation of string and _repr_ is used for formal representation of string."
   ]
  },
  {
   "cell_type": "markdown",
   "id": "27d06a91-7a1a-4f45-9470-0918df7bd2f1",
   "metadata": {},
   "source": [
    "20. What is the significance of Super() function in python?\n",
    "# Super () class is a way to access the data of base class . Super() class tells that give me all data related to super class."
   ]
  },
  {
   "cell_type": "markdown",
   "id": "30394f45-7152-4e20-8637-af0c20463e39",
   "metadata": {},
   "source": [
    "21. What is the significance of _del_ method in python?\n",
    "# _del_ method is used to delete any class method."
   ]
  },
  {
   "cell_type": "markdown",
   "id": "3e1ad579-1c32-489b-b148-ca967f1037e8",
   "metadata": {},
   "source": [
    "22.What is the difference between @staticmethod and @classmethod in python?\n",
    "Cls as first argument, acess and modify class level statement,to be used when you want to modify class class level data.\n",
    "No first agreement \n",
    "You cannot access\n",
    "When you don't want to interact with class level.data"
   ]
  },
  {
   "cell_type": "markdown",
   "id": "880a6201-e1a0-499b-b5f1-fa8d9b81c74b",
   "metadata": {},
   "source": [
    "23. How does polymorphism work in python with inheritance?\n",
    "#Polymorphism in Python, specifically with inheritance, allows objects of different classes to respond to the same method call in their own specific ways. This is achieved through a mechanism called method overriding. When a subclass inherits from a parent class, it can redefine methods of the parent class to suit its own needs."
   ]
  },
  {
   "cell_type": "raw",
   "id": "29bc1271-6640-41a0-803b-cfaf3249c43b",
   "metadata": {},
   "source": [
    "24. What is method chaining in python oop?\n",
    "# Method chaining is a powerful technique in Python programming that allows us to call multiple methods on an object in a single, continuous line of code. This approach makes the code cleaner, more readable, and often easier to maintain."
   ]
  },
  {
   "cell_type": "raw",
   "id": "1d30be81-a06b-4ed4-82d3-8fce6d72e5b3",
   "metadata": {},
   "source": [
    "25. What is the purpose of the _call_  method in python?\n",
    "# The _call_ method is part of Python build-in methods also called dunder or magic methods because have two prefixes and suffix underscores in the method name. The main idea of _call_ method is to write a class and invoke it like a function."
   ]
  },
  {
   "cell_type": "code",
   "execution_count": null,
   "id": "3847acfd-2d12-444d-9942-e286b257a64c",
   "metadata": {},
   "outputs": [],
   "source": [
    "#                               PRACTICAL QUESTIONS"
   ]
  },
  {
   "cell_type": "code",
   "execution_count": null,
   "id": "3df9e01c-e0c4-48ed-9428-cb40b7c8d1bb",
   "metadata": {},
   "outputs": [],
   "source": [
    "#1. create a parent class with a method speak () that prints a generic message . Create a child class Dog that overrides the speak () method to print\"bark\""
   ]
  },
  {
   "cell_type": "code",
   "execution_count": 1,
   "id": "d9b70875-7105-4a3c-9e90-ea30fa928a55",
   "metadata": {},
   "outputs": [],
   "source": [
    "class animal:\n",
    "    def animal_speak(self):\n",
    "        print(\"animals speaks\")\n",
    "class dog(animal):\n",
    "    def animal_speak(self):\n",
    "        print(\"bark\")\n",
    "    def dog_speaks(self) :\n",
    "        print(\"bark\")"
   ]
  },
  {
   "cell_type": "code",
   "execution_count": 14,
   "id": "6b1140b0-022e-4b9a-91a2-d9964c50e9ce",
   "metadata": {},
   "outputs": [
    {
     "name": "stdout",
     "output_type": "stream",
     "text": [
      "bark\n"
     ]
    }
   ],
   "source": [
    "obj=dog()\n",
    "obj.dog_speaks()"
   ]
  },
  {
   "cell_type": "code",
   "execution_count": 16,
   "id": "d5b54606-1d58-47ad-a31d-70de399f46b3",
   "metadata": {},
   "outputs": [
    {
     "name": "stdout",
     "output_type": "stream",
     "text": [
      "bark\n"
     ]
    }
   ],
   "source": [
    "obj.animal_speak()              # hence overrides"
   ]
  },
  {
   "cell_type": "code",
   "execution_count": 20,
   "id": "0679f0e9-bfd1-4cc6-ac0a-3042819e5313",
   "metadata": {},
   "outputs": [
    {
     "name": "stdout",
     "output_type": "stream",
     "text": [
      "animals speaks\n"
     ]
    }
   ],
   "source": [
    "obj1=animal()\n",
    "obj1.animal_speak()"
   ]
  },
  {
   "cell_type": "code",
   "execution_count": null,
   "id": "ebdfde38-b68d-40cb-ba60-a2cf6dfd8d1f",
   "metadata": {},
   "outputs": [],
   "source": [
    "#2.write a program to create an abstract class shape with a method area().Derive classes circle and rectangle from it and implement the area()method in both "
   ]
  },
  {
   "cell_type": "code",
   "execution_count": 27,
   "id": "10ed1353-00d4-4b7b-b737-ef6e85df7f34",
   "metadata": {},
   "outputs": [],
   "source": [
    "import abc\n",
    "class shape:\n",
    "    @abc.abstractmethod\n",
    "    def cal_area(self):\n",
    "        pass\n",
    "class rectangle(shape):\n",
    "    def cal_area(self):\n",
    "        return \"area of rectangle is length* breadth\"\n",
    "class circle(shape):\n",
    "    def cal_area(self):\n",
    "        return \"area of circle is pi*r**2\"        "
   ]
  },
  {
   "cell_type": "code",
   "execution_count": 29,
   "id": "d5d39b9c-c9a8-43b7-bc7d-e7466d1e629e",
   "metadata": {},
   "outputs": [],
   "source": [
    "rect=rectangle()"
   ]
  },
  {
   "cell_type": "code",
   "execution_count": 31,
   "id": "58825402-2a4a-4574-9ad0-c4e1ae364a59",
   "metadata": {},
   "outputs": [
    {
     "data": {
      "text/plain": [
       "'area of rectangle is length* breadth'"
      ]
     },
     "execution_count": 31,
     "metadata": {},
     "output_type": "execute_result"
    }
   ],
   "source": [
    "rect.cal_area()"
   ]
  },
  {
   "cell_type": "code",
   "execution_count": 33,
   "id": "edd6b2d9-0dac-4788-9da8-873d015888e2",
   "metadata": {},
   "outputs": [],
   "source": [
    "cir=circle()"
   ]
  },
  {
   "cell_type": "code",
   "execution_count": 35,
   "id": "e7863e97-0cd5-4ab8-b084-0c7e83b26183",
   "metadata": {},
   "outputs": [
    {
     "data": {
      "text/plain": [
       "'area of circle is pi*r**2'"
      ]
     },
     "execution_count": 35,
     "metadata": {},
     "output_type": "execute_result"
    }
   ],
   "source": [
    "cir.cal_area()"
   ]
  },
  {
   "cell_type": "code",
   "execution_count": null,
   "id": "9d152e40-425f-41f2-b4c0-00b4ff1b4303",
   "metadata": {},
   "outputs": [],
   "source": []
  },
  {
   "cell_type": "code",
   "execution_count": null,
   "id": "e193b818-6e12-4f4c-a328-50b4bbd5b845",
   "metadata": {},
   "outputs": [],
   "source": [
    "#3. Implement a multilevel inheritance scenerio where a class vehicle has an attribute type. Derive a class car and further derive a class electric car thats add a battry attribute."
   ]
  },
  {
   "cell_type": "code",
   "execution_count": 1,
   "id": "260cb54d-8973-4e67-aae6-e92d6abe4cca",
   "metadata": {},
   "outputs": [],
   "source": [
    "class vehicle:\n",
    "    def type_v(self):\n",
    "        print(\"i am a vehicle and has different type. i am the parent class\")\n",
    "class car(vehicle):\n",
    "    def type_c(self):\n",
    "        print(\"i am a car and i am the child class\")\n",
    "class sports_car(car):\n",
    "    def type_sc(self):\n",
    "        print(\"i am sportscar and i am the grand child class \")\n",
    "    def battery(self):\n",
    "        print(\"i have a goof battery\")\n",
    "    "
   ]
  },
  {
   "cell_type": "code",
   "execution_count": 3,
   "id": "18205f1c-7a26-400a-b0f3-7b9574b0e8b0",
   "metadata": {},
   "outputs": [],
   "source": [
    "s1= sports_car()"
   ]
  },
  {
   "cell_type": "code",
   "execution_count": 5,
   "id": "14928f40-25cd-432b-8d58-ed7cb0051922",
   "metadata": {},
   "outputs": [
    {
     "name": "stdout",
     "output_type": "stream",
     "text": [
      "i am sportscar and i am the grand child class \n"
     ]
    }
   ],
   "source": [
    "s1.type_sc()"
   ]
  },
  {
   "cell_type": "code",
   "execution_count": 9,
   "id": "e2523b2e-e998-43bc-94e5-3574d25ee037",
   "metadata": {},
   "outputs": [
    {
     "name": "stdout",
     "output_type": "stream",
     "text": [
      "i have a goof battery\n"
     ]
    }
   ],
   "source": [
    "s1.battery()"
   ]
  },
  {
   "cell_type": "code",
   "execution_count": 21,
   "id": "6e9970a4-3728-4a70-8b3a-0c0dcb680a52",
   "metadata": {},
   "outputs": [
    {
     "name": "stdout",
     "output_type": "stream",
     "text": [
      "i am a car and i am the child class\n"
     ]
    }
   ],
   "source": [
    "s1.type_c()"
   ]
  },
  {
   "cell_type": "code",
   "execution_count": 23,
   "id": "3ea5233f-869c-4e8e-83f1-65e74d646ad5",
   "metadata": {},
   "outputs": [
    {
     "name": "stdout",
     "output_type": "stream",
     "text": [
      "i am a vehicle and has different type. i am the parent class\n"
     ]
    }
   ],
   "source": [
    "s1.type_v()"
   ]
  },
  {
   "cell_type": "code",
   "execution_count": null,
   "id": "ef79327d-6f21-4c69-bc0c-7003153d7f94",
   "metadata": {},
   "outputs": [],
   "source": [
    "#4.Demonstrate polymorphism by creating a base class bird with a method fly().create two derived classes sparrow and penguin that override fly method."
   ]
  },
  {
   "cell_type": "code",
   "execution_count": 20,
   "id": "1058fafe-48bb-4e99-a06b-0ef875099cb1",
   "metadata": {},
   "outputs": [],
   "source": [
    "class Bird:\n",
    "    def fly(self):\n",
    "        print(\"This bird can fly.\")\n",
    "\n",
    "class Sparrow(Bird):\n",
    "    def fly(self):\n",
    "        print(\"Sparrow flies high in the sky.\")\n",
    "\n",
    "class Penguin(Bird):\n",
    "    def fly(self):\n",
    "        print(\"Penguins can't fly but they can swim.\")\n",
    "\n",
    "\n",
    "def make_bird_fly(bird):\n",
    "    bird.fly()"
   ]
  },
  {
   "cell_type": "code",
   "execution_count": 34,
   "id": "1bb54633-7824-4b69-b5e8-41f809a38dcb",
   "metadata": {},
   "outputs": [],
   "source": [
    "sparrow = Sparrow()\n",
    "penguin = Penguin()"
   ]
  },
  {
   "cell_type": "code",
   "execution_count": 36,
   "id": "1478ab62-88c5-4b5e-bad6-32c94e9f2a2b",
   "metadata": {},
   "outputs": [
    {
     "name": "stdout",
     "output_type": "stream",
     "text": [
      "Sparrow flies high in the sky.\n"
     ]
    }
   ],
   "source": [
    "make_bird_fly(sparrow)"
   ]
  },
  {
   "cell_type": "code",
   "execution_count": 38,
   "id": "cd4d8703-cd40-4496-8f81-e32e45234a54",
   "metadata": {},
   "outputs": [
    {
     "name": "stdout",
     "output_type": "stream",
     "text": [
      "Penguins can't fly but they can swim.\n"
     ]
    }
   ],
   "source": [
    "make_bird_fly(penguin)"
   ]
  },
  {
   "cell_type": "code",
   "execution_count": null,
   "id": "403321d1-47f9-4cdf-87c3-f26f4d59759a",
   "metadata": {},
   "outputs": [],
   "source": [
    "#5.write a program to demostrate encapsulation by creating a class Bankaccount with privte attributes. balance and methods to deposit , withdraw and check balance"
   ]
  },
  {
   "cell_type": "code",
   "execution_count": 1,
   "id": "4f388c4f-1971-4a09-bf51-ffae8c30989c",
   "metadata": {},
   "outputs": [],
   "source": [
    "class BankAccount:\n",
    "    def __init__(self, initial_balance=0):\n",
    "        \n",
    "        self.__balance = initial_balance\n",
    "\n",
    "    def deposit(self, amount):\n",
    "        if amount > 0:\n",
    "            self.__balance += amount\n",
    "            print(f\"Deposited: ${amount}\")\n",
    "        else:\n",
    "            print(\"Deposit amount must be positive.\")\n",
    "\n",
    "    def withdraw(self, amount):\n",
    "        if amount > 0:\n",
    "            if self.__balance >= amount:\n",
    "                self.__balance -= amount\n",
    "                print(f\"Withdrawn: ${amount}\")\n",
    "            else:\n",
    "                print(\"Insufficient balance.\")\n",
    "        else:\n",
    "            print(\"Withdrawal amount must be positive.\")\n",
    "\n",
    "    def check_balance(self):\n",
    "        print(f\"Current balance: ${self.__balance}\")\n"
   ]
  },
  {
   "cell_type": "code",
   "execution_count": 12,
   "id": "3557aee2-15a7-436a-8b84-acd414459a85",
   "metadata": {},
   "outputs": [
    {
     "name": "stdout",
     "output_type": "stream",
     "text": [
      "Current balance: $100\n"
     ]
    }
   ],
   "source": [
    "account = BankAccount(100)  \n",
    "account.check_balance()"
   ]
  },
  {
   "cell_type": "code",
   "execution_count": 23,
   "id": "3ad5eac9-e1f3-4cd8-9cb3-cc353f7dfdac",
   "metadata": {},
   "outputs": [
    {
     "name": "stdout",
     "output_type": "stream",
     "text": [
      "Deposited: $50\n",
      "Current balance: $150\n"
     ]
    }
   ],
   "source": [
    "account.deposit(50)\n",
    "account.check_balance()"
   ]
  },
  {
   "cell_type": "code",
   "execution_count": 25,
   "id": "0a6c72c3-1646-493d-b307-b236d3d3902c",
   "metadata": {},
   "outputs": [
    {
     "name": "stdout",
     "output_type": "stream",
     "text": [
      "Withdrawn: $30\n",
      "Current balance: $120\n"
     ]
    }
   ],
   "source": [
    "account.withdraw(30)\n",
    "account.check_balance()"
   ]
  },
  {
   "cell_type": "code",
   "execution_count": null,
   "id": "72cd5c46-7abc-4b04-ab96-55ad4031d2c8",
   "metadata": {},
   "outputs": [],
   "source": [
    "#6.Demonstrate runtime polymorphism using a method play() in a base class instrument . Derive classes Guitar and piano that implement their own version of paly()."
   ]
  },
  {
   "cell_type": "code",
   "execution_count": 1,
   "id": "aaf7fed0-7d84-48f7-a929-a895267dfbc9",
   "metadata": {},
   "outputs": [],
   "source": [
    "class Instrument:\n",
    "    def play(self):\n",
    "        print( \" I am Playing an instrument\")\n",
    "\n",
    "\n",
    "class Guitar(Instrument):\n",
    "    def play(self):\n",
    "        print(\"I am playing guiter\")\n",
    "\n",
    "class Piano(Instrument):\n",
    "    def play(self):\n",
    "        print(\"I am playing piano\")\n",
    "\n",
    "def perform(instrument):\n",
    "    instrument.play()"
   ]
  },
  {
   "cell_type": "code",
   "execution_count": 16,
   "id": "c1e96aec-5d41-4847-96da-fd693d61618c",
   "metadata": {},
   "outputs": [
    {
     "name": "stdout",
     "output_type": "stream",
     "text": [
      "I am playing guiter\n",
      "I am playing piano\n"
     ]
    }
   ],
   "source": [
    "instr1 = Guitar()\n",
    "instr2 = Piano()\n",
    "perform(instr1)  \n",
    "perform(instr2)"
   ]
  },
  {
   "cell_type": "code",
   "execution_count": null,
   "id": "5a32a405-11f6-414e-b5ec-a36664bd763d",
   "metadata": {},
   "outputs": [],
   "source": [
    "#7. Create a class Mathoperations with a class method add_numbers() to add two numbers and a static method substract_numbers() to substract two numbers."
   ]
  },
  {
   "cell_type": "code",
   "execution_count": 1,
   "id": "78c565d1-5f2b-4974-99a8-15c31f5f2fab",
   "metadata": {},
   "outputs": [],
   "source": [
    "class MathOperations:\n",
    "    # Class method to add two numbers\n",
    "    @classmethod\n",
    "    def add_numbers(cls, a, b):\n",
    "        return a + b\n",
    "\n",
    "    # Static method to subtract two numbers\n",
    "    @staticmethod\n",
    "    def subtract_numbers(a, b):\n",
    "        return a - b"
   ]
  },
  {
   "cell_type": "code",
   "execution_count": 3,
   "id": "4342934f-9fa3-4ff2-b96e-dd5582ac460c",
   "metadata": {},
   "outputs": [
    {
     "name": "stdout",
     "output_type": "stream",
     "text": [
      "Addition of 10 and 5: 15\n",
      "Subtraction of 10 and 5: 5\n"
     ]
    }
   ],
   "source": [
    "print(\"Addition of 10 and 5:\", MathOperations.add_numbers(10, 5))\n",
    "print(\"Subtraction of 10 and 5:\", MathOperations.subtract_numbers(10, 5))"
   ]
  },
  {
   "cell_type": "code",
   "execution_count": 18,
   "id": "700de15d-5f13-4a94-b718-42720cb4d7c4",
   "metadata": {},
   "outputs": [],
   "source": [
    "#8.Implement  a class person with a class method to count the total number of persom created."
   ]
  },
  {
   "cell_type": "code",
   "execution_count": 3,
   "id": "edfabb37-2dd2-45f8-b173-86686f950d3f",
   "metadata": {},
   "outputs": [
    {
     "name": "stdout",
     "output_type": "stream",
     "text": [
      "Total number of persons created: 3\n"
     ]
    }
   ],
   "source": [
    "class Person:\n",
    "    \n",
    "    count = 0\n",
    "\n",
    "    def __init__(self, name):\n",
    "        self.name = name\n",
    "    \n",
    "        Person.count += 1\n",
    "\n",
    "    @classmethod\n",
    "    def total_persons(cls):\n",
    "        \n",
    "        return cls.count\n",
    "p1 = Person(\"shreya\")\n",
    "p2 = Person(\"pakhi\")\n",
    "p3 = Person(\"vivek\")\n",
    "print(\"Total number of persons created:\", Person.total_persons())"
   ]
  },
  {
   "cell_type": "code",
   "execution_count": null,
   "id": "42df35c1-008d-4946-8499-96774b268044",
   "metadata": {},
   "outputs": [],
   "source": [
    "#9. Write a class Fraction with attributes numerator and denominator. Override the str method to display the fraction as \"numerator/denominator"
   ]
  },
  {
   "cell_type": "code",
   "execution_count": 29,
   "id": "c47e8374-ab13-4c1d-9fe1-1dfa6b075c9c",
   "metadata": {},
   "outputs": [],
   "source": [
    "class Fraction:\n",
    "    def __init__(self, numerator, denominator):\n",
    "        if denominator == 0:\n",
    "            print(\"Denominator cannot be zero.setting it to 1 bydefault\")\n",
    "            denominator=1\n",
    "            \n",
    "        \n",
    "        self.numerator = numerator\n",
    "        self.denominator = denominator\n",
    "\n",
    "    def __str__(self):\n",
    "        return str(self.numerator) + \"/\" + str(self.denominator)\n"
   ]
  },
  {
   "cell_type": "code",
   "execution_count": 31,
   "id": "c85dc35b-aa4d-4c39-b0b3-fde6b3f63e65",
   "metadata": {},
   "outputs": [
    {
     "name": "stdout",
     "output_type": "stream",
     "text": [
      "Denominator cannot be zero.setting it to 1 bydefault\n",
      "3/1\n"
     ]
    }
   ],
   "source": [
    "frac = Fraction(3, 0)  \n",
    "print(frac)"
   ]
  },
  {
   "cell_type": "code",
   "execution_count": null,
   "id": "54d34862-0de2-45f8-aaa6-bdffdcb7415f",
   "metadata": {},
   "outputs": [],
   "source": [
    "#10. Demonstrate operator overloading by creating a class Vector and overriding the add method to add two vectors."
   ]
  },
  {
   "cell_type": "code",
   "execution_count": 50,
   "id": "c2523c50-fc6d-4bdb-a3d8-d47992ac0219",
   "metadata": {},
   "outputs": [],
   "source": [
    "class Vector:\n",
    "    \n",
    "    def __init__(self, x, y):\n",
    "        self.x = x\n",
    "        self.y = y\n",
    "\n",
    "    \n",
    "    def __add__(self, other):\n",
    "        new_x = self.x + other.x\n",
    "        new_y = self.y + other.y\n",
    "        return Vector(new_x, new_y)\n",
    "\n",
    "    def __str__(self):\n",
    "        return f\"({self.x}, {self.y})\""
   ]
  },
  {
   "cell_type": "code",
   "execution_count": 52,
   "id": "e1574b59-fbc4-453b-a9a3-53762290fbc9",
   "metadata": {},
   "outputs": [
    {
     "name": "stdout",
     "output_type": "stream",
     "text": [
      "Result of v1 + v2 is: (4, 6)\n"
     ]
    }
   ],
   "source": [
    "v1 = Vector(1, 2)\n",
    "v2 = Vector(3, 4)\n",
    "\n",
    "v3 = v1 + v2\n",
    "\n",
    "print(\"Result of v1 + v2 is:\", v3)"
   ]
  },
  {
   "cell_type": "code",
   "execution_count": null,
   "id": "2326cbae-7927-4216-95c0-cf7862003c49",
   "metadata": {},
   "outputs": [],
   "source": [
    "#11. Create a class Person with attributes name and age. Add a method greet() that prints \"Hello, my name is [name] and I am (age) years old.\""
   ]
  },
  {
   "cell_type": "code",
   "execution_count": 85,
   "id": "51482c7a-a02c-4f6c-a438-d1676c67c88f",
   "metadata": {},
   "outputs": [],
   "source": [
    "class Person:\n",
    "    def __init__(self, name, age):  # Corrected constructor\n",
    "        self.name = name\n",
    "        self.age = age\n",
    "\n",
    "    def greet(self):\n",
    "        print(f\"Hello, my name is {self.name} and I am {self.age} years old.\")\n"
   ]
  },
  {
   "cell_type": "code",
   "execution_count": 89,
   "id": "e7318d15-f8e4-45f1-9f01-19ca68717b98",
   "metadata": {},
   "outputs": [
    {
     "name": "stdout",
     "output_type": "stream",
     "text": [
      "Hello, my name is shreya and I am 25 years old.\n"
     ]
    }
   ],
   "source": [
    "P = Person(\"shreya\",25)\n",
    "P.greet()"
   ]
  },
  {
   "cell_type": "code",
   "execution_count": null,
   "id": "abd3bd73-39aa-42f5-aee0-7e32d2ec341e",
   "metadata": {},
   "outputs": [],
   "source": [
    "#12. Implement a class Student with attributes name and grades. Create a method average_grade() to compute the average of the grades"
   ]
  },
  {
   "cell_type": "code",
   "execution_count": 8,
   "id": "d6e02cc8-a9b5-413f-a870-b21b3857793d",
   "metadata": {},
   "outputs": [],
   "source": [
    "class Student:\n",
    "    def __init__(self, name, grades):\n",
    "        self.name = name            # Student's name\n",
    "        self.grades = grades        # List of grades\n",
    "\n",
    "    def average_grade(self):\n",
    "        if len(self.grades) == 0:\n",
    "            return 0\n",
    "        return sum(self.grades) / len(self.grades)\n"
   ]
  },
  {
   "cell_type": "code",
   "execution_count": 12,
   "id": "3e3019f6-6307-4a06-8845-2bc000a2eda2",
   "metadata": {},
   "outputs": [
    {
     "name": "stdout",
     "output_type": "stream",
     "text": [
      "shreya's average grade is 81.66666666666667\n"
     ]
    }
   ],
   "source": [
    "student1 = Student(\"shreya\", [77, 90, 78])\n",
    "print(f\"{student1.name}'s average grade is {student1.average_grade()}\")"
   ]
  },
  {
   "cell_type": "code",
   "execution_count": null,
   "id": "c4fa2424-622f-44f3-9875-78bfcb0506d5",
   "metadata": {},
   "outputs": [],
   "source": [
    "#13.Create a class Rectangle with methods set dimensions() to set the dimensions and area() to calculate the area"
   ]
  },
  {
   "cell_type": "code",
   "execution_count": 30,
   "id": "a1886fa4-ebee-4015-8447-ea5c12adb402",
   "metadata": {},
   "outputs": [],
   "source": [
    "class Rectangle:\n",
    "    def set_dimensions(self, length, width):\n",
    "        self.length = length\n",
    "        self.width = width\n",
    "\n",
    "    def area(self):\n",
    "        return self.length * self.width\n"
   ]
  },
  {
   "cell_type": "code",
   "execution_count": 39,
   "id": "08b12053-96c0-4f75-95a8-5334e6991550",
   "metadata": {},
   "outputs": [
    {
     "name": "stdout",
     "output_type": "stream",
     "text": [
      "Area: 8\n"
     ]
    }
   ],
   "source": [
    "r = Rectangle()\n",
    "r.set_dimensions(4, 2)\n",
    "print(\"Area:\",r.area())"
   ]
  },
  {
   "cell_type": "code",
   "execution_count": null,
   "id": "a38026b8-b265-4cd6-9701-e24b42941994",
   "metadata": {},
   "outputs": [],
   "source": [
    "#14.Create a class Employee with a method calculate_salary() that computes the salary based on hours worked and hourly rate. Create a derived class Manager that adds a bonus to the salary"
   ]
  },
  {
   "cell_type": "code",
   "execution_count": 43,
   "id": "f2363b7b-1429-4997-a769-7f38f24c3b10",
   "metadata": {},
   "outputs": [
    {
     "name": "stdout",
     "output_type": "stream",
     "text": [
      "Employee salary: 800\n",
      "Manager salary: 1300\n"
     ]
    }
   ],
   "source": [
    "\n",
    "class Employee:\n",
    "    def calculate_salary(self, hours_worked, hourly_rate):\n",
    "        return hours_worked * hourly_rate\n",
    "\n",
    "# Derived class\n",
    "class Manager(Employee):\n",
    "    def calculate_salary(self, hours_worked, hourly_rate, bonus):\n",
    "        base_salary = super().calculate_salary(hours_worked, hourly_rate)\n",
    "        return base_salary + bonus\n",
    "\n",
    "emp = Employee()\n",
    "print(\"Employee salary:\", emp.calculate_salary(40, 20))\n",
    "\n",
    "mgr = Manager()\n",
    "print(\"Manager salary:\", mgr.calculate_salary(40, 20, 500))"
   ]
  },
  {
   "cell_type": "code",
   "execution_count": null,
   "id": "ebe87c8a-80af-4467-80b3-2ccd0a65f9e0",
   "metadata": {},
   "outputs": [],
   "source": [
    "#15. Create a class Product with attributes name, price, and quantity. Implement a method total_price() that calculates the total price of the product"
   ]
  },
  {
   "cell_type": "code",
   "execution_count": 47,
   "id": "201eaf2f-6fab-43b2-b601-d48c218fc926",
   "metadata": {},
   "outputs": [
    {
     "name": "stdout",
     "output_type": "stream",
     "text": [
      "Total price of Book is: 300\n"
     ]
    }
   ],
   "source": [
    "class Product:\n",
    "    def __init__(self, name, price, quantity):\n",
    "        self.name = name\n",
    "        self.price = price\n",
    "        self.quantity = quantity\n",
    "\n",
    "    def total_price(self):\n",
    "        return self.price * self.quantity\n",
    "\n",
    "\n",
    "item = Product(\"Book\", 100, 3)\n",
    "print(\"Total price of\", item.name, \"is:\", item.total_price())"
   ]
  },
  {
   "cell_type": "code",
   "execution_count": null,
   "id": "2c98db37-85a2-41bb-98a5-9d6c2a78dff6",
   "metadata": {},
   "outputs": [],
   "source": [
    "#16.Create a class Animal with an abstract method sound(). Create two derived classes Cow and Sheep that Implement the sound() method."
   ]
  },
  {
   "cell_type": "code",
   "execution_count": 49,
   "id": "526c0200-4143-4d43-aa21-9e7f3c837128",
   "metadata": {},
   "outputs": [
    {
     "name": "stdout",
     "output_type": "stream",
     "text": [
      "Cow sound: Moo\n",
      "Sheep sound: Baa\n"
     ]
    }
   ],
   "source": [
    "from abc import ABC, abstractmethod\n",
    "\n",
    "\n",
    "class Animal(ABC):\n",
    "    @abstractmethod\n",
    "    def sound(self):\n",
    "        pass\n",
    "\n",
    "class Cow(Animal):\n",
    "    def sound(self):\n",
    "        return \"Moo\"\n",
    "\n",
    "\n",
    "class Sheep(Animal):\n",
    "    def sound(self):\n",
    "        return \"Baa\"\n",
    "\n",
    "cow = Cow()\n",
    "sheep = Sheep()\n",
    "\n",
    "print(\"Cow sound:\", cow.sound())\n",
    "print(\"Sheep sound:\", sheep.sound())  \n"
   ]
  },
  {
   "cell_type": "code",
   "execution_count": null,
   "id": "e4253758-3b8a-4273-8746-e3010b2e47f7",
   "metadata": {},
   "outputs": [],
   "source": [
    "#17.Create a class Book with attributes title, author, and year published. Add a method get book info() that returns a formatted string with the book's detalls."
   ]
  },
  {
   "cell_type": "code",
   "execution_count": 68,
   "id": "6186e402-6ea6-412f-a394-5937868ba1b3",
   "metadata": {},
   "outputs": [
    {
     "name": "stdout",
     "output_type": "stream",
     "text": [
      "Title: kafan, Author: Munsi prem chand, Year Published: 1949\n"
     ]
    }
   ],
   "source": [
    "class Book:\n",
    "    def __init__(self, title, author, year_published):\n",
    "        self.title = title\n",
    "        self.author = author\n",
    "        self.year_published = year_published\n",
    "\n",
    "    def get_book_info(self):\n",
    "        return f\"Title: {self.title}, Author: {self.author}, Year Published: {self.year_published}\"\n",
    "\n",
    "# Example usage\n",
    "book1 = Book(\"kafan\", \"Munsi prem chand\", 1949)\n",
    "print(book1.get_book_info())"
   ]
  },
  {
   "cell_type": "code",
   "execution_count": null,
   "id": "d390203c-f9f6-44fc-b563-7bb2486bbc1e",
   "metadata": {},
   "outputs": [],
   "source": [
    "#18. Create a class House with attributes address and price. Create a derived class Mansion that adds an attribute number_of_rooms."
   ]
  },
  {
   "cell_type": "code",
   "execution_count": 84,
   "id": "598a786d-f29e-4d73-b5af-ead177d3b16f",
   "metadata": {},
   "outputs": [],
   "source": [
    "class House:\n",
    "    def __init__(self, address, price):\n",
    "        self.address = address\n",
    "        self.price = price\n",
    "\n",
    "    def display_info(self):\n",
    "        print(\"Address:\", self.address)\n",
    "        print(\"Price: $\", self.price)\n",
    "\n",
    "class Mansion(House):\n",
    "    def __init__(self, address, price, number_of_rooms):\n",
    "        \n",
    "        super().__init__(address, price)\n",
    "    \n",
    "        self.number_of_rooms = number_of_rooms\n",
    "\n",
    "    def display_info(self):\n",
    "    \n",
    "        super().display_info()\n",
    "        print(\"Number of Rooms:\", self.number_of_rooms)\n",
    "\n"
   ]
  },
  {
   "cell_type": "code",
   "execution_count": 89,
   "id": "46250e71-e7ec-4167-ae05-b352ee6b051f",
   "metadata": {},
   "outputs": [
    {
     "name": "stdout",
     "output_type": "stream",
     "text": [
      "Address: Mahavir marg\n",
      "Price: $ 2000000\n",
      "Number of Rooms: 10\n"
     ]
    }
   ],
   "source": [
    "my_mansion = Mansion(\"Mahavir marg\", 2000000, 10)\n",
    "my_mansion.display_info()"
   ]
  },
  {
   "cell_type": "code",
   "execution_count": null,
   "id": "127e1a4e-f65d-42e6-8957-700fd494de6a",
   "metadata": {},
   "outputs": [],
   "source": []
  },
  {
   "cell_type": "code",
   "execution_count": null,
   "id": "ac139edf-fdd8-4ca3-a9d7-8b79db64ea76",
   "metadata": {},
   "outputs": [],
   "source": []
  },
  {
   "cell_type": "code",
   "execution_count": null,
   "id": "d5c6adad-0574-444b-88b8-159ffc8105cd",
   "metadata": {},
   "outputs": [],
   "source": []
  },
  {
   "cell_type": "code",
   "execution_count": null,
   "id": "2fbbb479-5555-4603-843b-504a5737454f",
   "metadata": {},
   "outputs": [],
   "source": []
  },
  {
   "cell_type": "code",
   "execution_count": null,
   "id": "98682b07-2828-4232-a7ea-3461d9fd4ffd",
   "metadata": {},
   "outputs": [],
   "source": []
  },
  {
   "cell_type": "code",
   "execution_count": null,
   "id": "83849690-1171-4e7a-bc12-b91ccca07d47",
   "metadata": {},
   "outputs": [],
   "source": []
  },
  {
   "cell_type": "code",
   "execution_count": null,
   "id": "5dff68e7-ed7a-438d-b674-2fda9ba2fcc2",
   "metadata": {},
   "outputs": [],
   "source": []
  },
  {
   "cell_type": "code",
   "execution_count": null,
   "id": "d7a85ff1-e9aa-419a-a17e-fb36d3c3ce93",
   "metadata": {},
   "outputs": [],
   "source": []
  },
  {
   "cell_type": "code",
   "execution_count": null,
   "id": "2380a84e-ecca-4a99-aecc-afde40cf545c",
   "metadata": {},
   "outputs": [],
   "source": []
  },
  {
   "cell_type": "code",
   "execution_count": null,
   "id": "a93b751d-dbbd-4db4-82c9-eaa60e59665b",
   "metadata": {},
   "outputs": [],
   "source": []
  }
 ],
 "metadata": {
  "kernelspec": {
   "display_name": "Python [conda env:base] *",
   "language": "python",
   "name": "conda-base-py"
  },
  "language_info": {
   "codemirror_mode": {
    "name": "ipython",
    "version": 3
   },
   "file_extension": ".py",
   "mimetype": "text/x-python",
   "name": "python",
   "nbconvert_exporter": "python",
   "pygments_lexer": "ipython3",
   "version": "3.12.7"
  }
 },
 "nbformat": 4,
 "nbformat_minor": 5
}
